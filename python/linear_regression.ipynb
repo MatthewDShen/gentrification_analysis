{
 "cells": [
  {
   "cell_type": "code",
   "execution_count": 2,
   "metadata": {},
   "outputs": [],
   "source": [
    "import pandas as pd"
   ]
  },
  {
   "cell_type": "code",
   "execution_count": 78,
   "metadata": {},
   "outputs": [],
   "source": [
    "# Read cleaned dataframes\n",
    "census_2011 = pd.read_csv(\"/home/matthewdshen/GitHub/urban_data_project/analysis/cleaned_features/census_2011.csv\", low_memory=False)\n",
    "census_2012 = pd.read_csv(\"/home/matthewdshen/GitHub/urban_data_project/analysis/cleaned_features/census_2012.csv\", low_memory=False)\n",
    "census_2013 = pd.read_csv(\"/home/matthewdshen/GitHub/urban_data_project/analysis/cleaned_features/census_2013.csv\", low_memory=False)\n",
    "census_2014 = pd.read_csv(\"/home/matthewdshen/GitHub/urban_data_project/analysis/cleaned_features/census_2014.csv\", low_memory=False)\n",
    "census_2015 = pd.read_csv(\"/home/matthewdshen/GitHub/urban_data_project/analysis/cleaned_features/census_2015.csv\", low_memory=False)\n",
    "census_2016 = pd.read_csv(\"/home/matthewdshen/GitHub/urban_data_project/analysis/cleaned_features/census_2016.csv\", low_memory=False)\n",
    "census_2017 = pd.read_csv(\"/home/matthewdshen/GitHub/urban_data_project/analysis/cleaned_features/census_2017.csv\", low_memory=False)\n",
    "census_2018 = pd.read_csv(\"/home/matthewdshen/GitHub/urban_data_project/analysis/cleaned_features/census_2018.csv\", low_memory=False)\n",
    "census_2019 = pd.read_csv(\"/home/matthewdshen/GitHub/urban_data_project/analysis/cleaned_features/census_2019.csv\", low_memory=False)"
   ]
  },
  {
   "cell_type": "code",
   "execution_count": 80,
   "metadata": {},
   "outputs": [],
   "source": [
    "# Group data based on zipcode\n",
    "census_2011 = census_2011.groupby(['NAME'], as_index=False).mean()\n",
    "census_2012 = census_2012.groupby(['NAME'], as_index=False).mean()\n",
    "census_2013 = census_2013.groupby(['NAME'], as_index=False).mean()\n",
    "census_2014 = census_2014.groupby(['NAME'], as_index=False).mean()\n",
    "census_2015 = census_2015.groupby(['NAME'], as_index=False).mean()\n",
    "census_2016 = census_2016.groupby(['NAME'], as_index=False).mean()\n",
    "census_2017 = census_2017.groupby(['NAME'], as_index=False).mean()\n",
    "census_2018 = census_2018.groupby(['NAME'], as_index=False).mean()\n",
    "census_2019 = census_2019.groupby(['NAME'], as_index=False).mean()"
   ]
  },
  {
   "cell_type": "code",
   "execution_count": 83,
   "metadata": {},
   "outputs": [
    {
     "ename": "KeyError",
     "evalue": "('median_age', 'white_non-hispanic', 'household_income', 'family_income', 'nonfamily_households_income', 'married-couple_families_income', 'foreign_born_not_a_us_citizen', 'bachelors', 'graduate', 'gross_rent_media_price')",
     "output_type": "error",
     "traceback": [
      "\u001b[0;31m---------------------------------------------------------------------------\u001b[0m",
      "\u001b[0;31mKeyError\u001b[0m                                  Traceback (most recent call last)",
      "File \u001b[0;32m~/.local/lib/python3.9/site-packages/pandas/core/indexes/base.py:3800\u001b[0m, in \u001b[0;36mIndex.get_loc\u001b[0;34m(self, key, method, tolerance)\u001b[0m\n\u001b[1;32m   3799\u001b[0m \u001b[39mtry\u001b[39;00m:\n\u001b[0;32m-> 3800\u001b[0m     \u001b[39mreturn\u001b[39;00m \u001b[39mself\u001b[39;49m\u001b[39m.\u001b[39;49m_engine\u001b[39m.\u001b[39;49mget_loc(casted_key)\n\u001b[1;32m   3801\u001b[0m \u001b[39mexcept\u001b[39;00m \u001b[39mKeyError\u001b[39;00m \u001b[39mas\u001b[39;00m err:\n",
      "File \u001b[0;32m~/.local/lib/python3.9/site-packages/pandas/_libs/index.pyx:138\u001b[0m, in \u001b[0;36mpandas._libs.index.IndexEngine.get_loc\u001b[0;34m()\u001b[0m\n",
      "File \u001b[0;32m~/.local/lib/python3.9/site-packages/pandas/_libs/index.pyx:165\u001b[0m, in \u001b[0;36mpandas._libs.index.IndexEngine.get_loc\u001b[0;34m()\u001b[0m\n",
      "File \u001b[0;32mpandas/_libs/hashtable_class_helper.pxi:5745\u001b[0m, in \u001b[0;36mpandas._libs.hashtable.PyObjectHashTable.get_item\u001b[0;34m()\u001b[0m\n",
      "File \u001b[0;32mpandas/_libs/hashtable_class_helper.pxi:5753\u001b[0m, in \u001b[0;36mpandas._libs.hashtable.PyObjectHashTable.get_item\u001b[0;34m()\u001b[0m\n",
      "\u001b[0;31mKeyError\u001b[0m: ('median_age', 'white_non-hispanic', 'household_income', 'family_income', 'nonfamily_households_income', 'married-couple_families_income', 'foreign_born_not_a_us_citizen', 'bachelors', 'graduate', 'gross_rent_media_price')",
      "\nThe above exception was the direct cause of the following exception:\n",
      "\u001b[0;31mKeyError\u001b[0m                                  Traceback (most recent call last)",
      "Cell \u001b[0;32mIn [83], line 2\u001b[0m\n\u001b[1;32m      1\u001b[0m \u001b[39m# Interpolate data to fill in missing values\u001b[39;00m\n\u001b[0;32m----> 2\u001b[0m census_2011[\u001b[39m'\u001b[39m\u001b[39mmedian_age\u001b[39m\u001b[39m'\u001b[39m,\u001b[39m'\u001b[39m\u001b[39mwhite_non-hispanic\u001b[39m\u001b[39m'\u001b[39m,\u001b[39m'\u001b[39m\u001b[39mhousehold_income\u001b[39m\u001b[39m'\u001b[39m,\u001b[39m'\u001b[39m\u001b[39mfamily_income\u001b[39m\u001b[39m'\u001b[39m,\u001b[39m'\u001b[39m\u001b[39mnonfamily_households_income\u001b[39m\u001b[39m'\u001b[39m,\u001b[39m'\u001b[39m\u001b[39mmarried-couple_families_income\u001b[39m\u001b[39m'\u001b[39m,\u001b[39m'\u001b[39m\u001b[39mforeign_born_not_a_us_citizen\u001b[39m\u001b[39m'\u001b[39m,\u001b[39m'\u001b[39m\u001b[39mbachelors\u001b[39m\u001b[39m'\u001b[39m,\u001b[39m'\u001b[39m\u001b[39mgraduate\u001b[39m\u001b[39m'\u001b[39m,\u001b[39m'\u001b[39m\u001b[39mgross_rent_media_price\u001b[39m\u001b[39m'\u001b[39m]\u001b[39m.\u001b[39minterpolate(axis \u001b[39m=\u001b[39m \u001b[39m1\u001b[39m, inplace \u001b[39m=\u001b[39m \u001b[39mTrue\u001b[39;00m)\n\u001b[1;32m      3\u001b[0m census_2012[\u001b[39m'\u001b[39m\u001b[39mmedian_age\u001b[39m\u001b[39m'\u001b[39m,\u001b[39m'\u001b[39m\u001b[39mwhite_non-hispanic\u001b[39m\u001b[39m'\u001b[39m,\u001b[39m'\u001b[39m\u001b[39mhousehold_income\u001b[39m\u001b[39m'\u001b[39m,\u001b[39m'\u001b[39m\u001b[39mfamily_income\u001b[39m\u001b[39m'\u001b[39m,\u001b[39m'\u001b[39m\u001b[39mnonfamily_households_income\u001b[39m\u001b[39m'\u001b[39m,\u001b[39m'\u001b[39m\u001b[39mmarried-couple_families_income\u001b[39m\u001b[39m'\u001b[39m,\u001b[39m'\u001b[39m\u001b[39mforeign_born_not_a_us_citizen\u001b[39m\u001b[39m'\u001b[39m,\u001b[39m'\u001b[39m\u001b[39mbachelors\u001b[39m\u001b[39m'\u001b[39m,\u001b[39m'\u001b[39m\u001b[39mgraduate\u001b[39m\u001b[39m'\u001b[39m,\u001b[39m'\u001b[39m\u001b[39mgross_rent_media_price\u001b[39m\u001b[39m'\u001b[39m]\u001b[39m.\u001b[39minterpolate(axis \u001b[39m=\u001b[39m \u001b[39m1\u001b[39m, inplace \u001b[39m=\u001b[39m \u001b[39mTrue\u001b[39;00m)\n\u001b[1;32m      4\u001b[0m census_2013[\u001b[39m'\u001b[39m\u001b[39mmedian_age\u001b[39m\u001b[39m'\u001b[39m,\u001b[39m'\u001b[39m\u001b[39mwhite_non-hispanic\u001b[39m\u001b[39m'\u001b[39m,\u001b[39m'\u001b[39m\u001b[39mhousehold_income\u001b[39m\u001b[39m'\u001b[39m,\u001b[39m'\u001b[39m\u001b[39mfamily_income\u001b[39m\u001b[39m'\u001b[39m,\u001b[39m'\u001b[39m\u001b[39mnonfamily_households_income\u001b[39m\u001b[39m'\u001b[39m,\u001b[39m'\u001b[39m\u001b[39mmarried-couple_families_income\u001b[39m\u001b[39m'\u001b[39m,\u001b[39m'\u001b[39m\u001b[39mforeign_born_not_a_us_citizen\u001b[39m\u001b[39m'\u001b[39m,\u001b[39m'\u001b[39m\u001b[39mbachelors\u001b[39m\u001b[39m'\u001b[39m,\u001b[39m'\u001b[39m\u001b[39mgraduate\u001b[39m\u001b[39m'\u001b[39m,\u001b[39m'\u001b[39m\u001b[39mgross_rent_media_price\u001b[39m\u001b[39m'\u001b[39m]\u001b[39m.\u001b[39minterpolate(axis \u001b[39m=\u001b[39m \u001b[39m1\u001b[39m, inplace \u001b[39m=\u001b[39m \u001b[39mTrue\u001b[39;00m)\n",
      "File \u001b[0;32m~/.local/lib/python3.9/site-packages/pandas/core/frame.py:3805\u001b[0m, in \u001b[0;36mDataFrame.__getitem__\u001b[0;34m(self, key)\u001b[0m\n\u001b[1;32m   3803\u001b[0m \u001b[39mif\u001b[39;00m \u001b[39mself\u001b[39m\u001b[39m.\u001b[39mcolumns\u001b[39m.\u001b[39mnlevels \u001b[39m>\u001b[39m \u001b[39m1\u001b[39m:\n\u001b[1;32m   3804\u001b[0m     \u001b[39mreturn\u001b[39;00m \u001b[39mself\u001b[39m\u001b[39m.\u001b[39m_getitem_multilevel(key)\n\u001b[0;32m-> 3805\u001b[0m indexer \u001b[39m=\u001b[39m \u001b[39mself\u001b[39;49m\u001b[39m.\u001b[39;49mcolumns\u001b[39m.\u001b[39;49mget_loc(key)\n\u001b[1;32m   3806\u001b[0m \u001b[39mif\u001b[39;00m is_integer(indexer):\n\u001b[1;32m   3807\u001b[0m     indexer \u001b[39m=\u001b[39m [indexer]\n",
      "File \u001b[0;32m~/.local/lib/python3.9/site-packages/pandas/core/indexes/base.py:3802\u001b[0m, in \u001b[0;36mIndex.get_loc\u001b[0;34m(self, key, method, tolerance)\u001b[0m\n\u001b[1;32m   3800\u001b[0m     \u001b[39mreturn\u001b[39;00m \u001b[39mself\u001b[39m\u001b[39m.\u001b[39m_engine\u001b[39m.\u001b[39mget_loc(casted_key)\n\u001b[1;32m   3801\u001b[0m \u001b[39mexcept\u001b[39;00m \u001b[39mKeyError\u001b[39;00m \u001b[39mas\u001b[39;00m err:\n\u001b[0;32m-> 3802\u001b[0m     \u001b[39mraise\u001b[39;00m \u001b[39mKeyError\u001b[39;00m(key) \u001b[39mfrom\u001b[39;00m \u001b[39merr\u001b[39;00m\n\u001b[1;32m   3803\u001b[0m \u001b[39mexcept\u001b[39;00m \u001b[39mTypeError\u001b[39;00m:\n\u001b[1;32m   3804\u001b[0m     \u001b[39m# If we have a listlike key, _check_indexing_error will raise\u001b[39;00m\n\u001b[1;32m   3805\u001b[0m     \u001b[39m#  InvalidIndexError. Otherwise we fall through and re-raise\u001b[39;00m\n\u001b[1;32m   3806\u001b[0m     \u001b[39m#  the TypeError.\u001b[39;00m\n\u001b[1;32m   3807\u001b[0m     \u001b[39mself\u001b[39m\u001b[39m.\u001b[39m_check_indexing_error(key)\n",
      "\u001b[0;31mKeyError\u001b[0m: ('median_age', 'white_non-hispanic', 'household_income', 'family_income', 'nonfamily_households_income', 'married-couple_families_income', 'foreign_born_not_a_us_citizen', 'bachelors', 'graduate', 'gross_rent_media_price')"
     ]
    }
   ],
   "source": [
    "# Interpolate data to fill in missing values\n",
    "census_2011.interpolate(axis = 1, inplace = True)\n",
    "census_2012.interpolate(axis = 1, inplace = True)\n",
    "census_2013.interpolate(axis = 1, inplace = True)\n",
    "census_2014.interpolate(axis = 1, inplace = True)\n",
    "census_2015.interpolate(axis = 1, inplace = True)\n",
    "census_2016.interpolate(axis = 1, inplace = True)\n",
    "census_2017.interpolate(axis = 1, inplace = True)\n",
    "census_2018.interpolate(axis = 1, inplace = True)\n",
    "census_2019.interpolate(axis = 1, inplace = True)"
   ]
  },
  {
   "cell_type": "code",
   "execution_count": 48,
   "metadata": {},
   "outputs": [
    {
     "name": "stdout",
     "output_type": "stream",
     "text": [
      "median_age\n",
      "white_non-hispanic\n",
      "household_income\n",
      "family_income\n",
      "nonfamily_households_income\n",
      "married-couple_families_income\n",
      "foreign_born_not_a_us_citizen\n",
      "bachelors\n",
      "graduate\n",
      "gross_rent_media_price\n"
     ]
    }
   ],
   "source": [
    "# Get difference in values from 2011 and 2019\n",
    "df_2011_2019 = pd.merge(census_2011,census_2019,how = 'inner', on = 'NAME', suffixes=['_2011','_2019'])\n",
    "\n",
    "# Get list of values\n",
    "lst_values = ['NAME','median_age','white_non-hispanic','household_income','family_income','nonfamily_households_income','married-couple_families_income','foreign_born_not_a_us_citizen','bachelors','graduate','gross_rent_media_price']\n",
    "\n",
    "# Intialize dataframe\n",
    "df_delta = pd.DataFrame(df_2011_2019['NAME'])\n",
    "\n",
    "# Go through each element of the list values\n",
    "for feature in lst_values[1:]:\n",
    "    df_delta[feature + '_delta'] = df_2011_2019[feature + '_2019'] - df_2011_2019[feature + '_2011'] # get the change in census tracts\n",
    "\n",
    "df_delta"
   ]
  },
  {
   "cell_type": "code",
   "execution_count": null,
   "metadata": {},
   "outputs": [],
   "source": [
    "# Normalize the data\n",
    "def normalize(df):\n",
    "    '''The following normalizes the data'''\n",
    "    result = df.copy()\n",
    "    for feature_name in df.columns[1:]:\n",
    "        df[feature_name] = df[feature_name].apply(pd.to_numeric, errors='coerce')\n",
    "        max_value = df[feature_name].max()\n",
    "        min_value = df[feature_name].min()\n",
    "        result[feature_name] = (df[feature_name] - min_value) / (max_value - min_value)\n",
    "    return result\n",
    "\n",
    "\n",
    "\n",
    "# Run normalization function\n",
    "census_2011 = normalize(census_2011)\n",
    "census_2012 = normalize(census_2012)\n",
    "census_2013 = normalize(census_2013)\n",
    "census_2014 = normalize(census_2014)\n",
    "census_2015 = normalize(census_2015)\n",
    "census_2016 = normalize(census_2016)\n",
    "census_2017 = normalize(census_2017)\n",
    "census_2018 = normalize(census_2018)\n",
    "census_2019 = normalize(census_2019)"
   ]
  }
 ],
 "metadata": {
  "kernelspec": {
   "display_name": "Python 3.9.2 64-bit",
   "language": "python",
   "name": "python3"
  },
  "language_info": {
   "codemirror_mode": {
    "name": "ipython",
    "version": 3
   },
   "file_extension": ".py",
   "mimetype": "text/x-python",
   "name": "python",
   "nbconvert_exporter": "python",
   "pygments_lexer": "ipython3",
   "version": "3.9.2"
  },
  "orig_nbformat": 4,
  "vscode": {
   "interpreter": {
    "hash": "916dbcbb3f70747c44a77c7bcd40155683ae19c65e1c03b4aa3499c5328201f1"
   }
  }
 },
 "nbformat": 4,
 "nbformat_minor": 2
}
