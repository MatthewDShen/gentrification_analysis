{
 "cells": [
  {
   "cell_type": "code",
   "execution_count": 9,
   "metadata": {},
   "outputs": [],
   "source": [
    "# import libs especially pandas b/c pandas is a nice name\n",
    "import pandas as pd, os, matplotlib.pyplot as plt, numpy as np, os\n",
    "from sklearn.decomposition import PCA\n"
   ]
  },
  {
   "cell_type": "code",
   "execution_count": 11,
   "metadata": {},
   "outputs": [
    {
     "ename": "FileNotFoundError",
     "evalue": "[Errno 2] No such file or directory: 'c:\\\\Users\\\\matth\\\\Documents\\\\GitHub\\\\urban_data_project\\\\python/normalized/clean_normalized.csv'",
     "output_type": "error",
     "traceback": [
      "\u001b[1;31m---------------------------------------------------------------------------\u001b[0m",
      "\u001b[1;31mFileNotFoundError\u001b[0m                         Traceback (most recent call last)",
      "\u001b[1;32mc:\\Users\\matth\\Documents\\GitHub\\urban_data_project\\python\\4_ML.ipynb Cell 2\u001b[0m in \u001b[0;36m<cell line: 2>\u001b[1;34m()\u001b[0m\n\u001b[0;32m      <a href='vscode-notebook-cell:/c%3A/Users/matth/Documents/GitHub/urban_data_project/python/4_ML.ipynb#W1sZmlsZQ%3D%3D?line=0'>1</a>\u001b[0m \u001b[39m# Read normalized csv file\u001b[39;00m\n\u001b[1;32m----> <a href='vscode-notebook-cell:/c%3A/Users/matth/Documents/GitHub/urban_data_project/python/4_ML.ipynb#W1sZmlsZQ%3D%3D?line=1'>2</a>\u001b[0m df_data \u001b[39m=\u001b[39m pd\u001b[39m.\u001b[39;49mread_csv(os\u001b[39m.\u001b[39;49mgetcwd() \u001b[39m+\u001b[39;49m \u001b[39m'\u001b[39;49m\u001b[39m/normalized/clean_normalized.csv\u001b[39;49m\u001b[39m'\u001b[39;49m) \u001b[39m# TODO: fix path problem\u001b[39;00m\n\u001b[0;32m      <a href='vscode-notebook-cell:/c%3A/Users/matth/Documents/GitHub/urban_data_project/python/4_ML.ipynb#W1sZmlsZQ%3D%3D?line=3'>4</a>\u001b[0m \u001b[39m# Annotation list\u001b[39;00m\n\u001b[0;32m      <a href='vscode-notebook-cell:/c%3A/Users/matth/Documents/GitHub/urban_data_project/python/4_ML.ipynb#W1sZmlsZQ%3D%3D?line=4'>5</a>\u001b[0m lst_annotate \u001b[39m=\u001b[39m \u001b[39mlist\u001b[39m(df_data[\u001b[39m'\u001b[39m\u001b[39mNAME\u001b[39m\u001b[39m'\u001b[39m])\n",
      "File \u001b[1;32m~\\AppData\\Local\\Packages\\PythonSoftwareFoundation.Python.3.10_qbz5n2kfra8p0\\LocalCache\\local-packages\\Python310\\site-packages\\pandas\\util\\_decorators.py:311\u001b[0m, in \u001b[0;36mdeprecate_nonkeyword_arguments.<locals>.decorate.<locals>.wrapper\u001b[1;34m(*args, **kwargs)\u001b[0m\n\u001b[0;32m    305\u001b[0m \u001b[39mif\u001b[39;00m \u001b[39mlen\u001b[39m(args) \u001b[39m>\u001b[39m num_allow_args:\n\u001b[0;32m    306\u001b[0m     warnings\u001b[39m.\u001b[39mwarn(\n\u001b[0;32m    307\u001b[0m         msg\u001b[39m.\u001b[39mformat(arguments\u001b[39m=\u001b[39marguments),\n\u001b[0;32m    308\u001b[0m         \u001b[39mFutureWarning\u001b[39;00m,\n\u001b[0;32m    309\u001b[0m         stacklevel\u001b[39m=\u001b[39mstacklevel,\n\u001b[0;32m    310\u001b[0m     )\n\u001b[1;32m--> 311\u001b[0m \u001b[39mreturn\u001b[39;00m func(\u001b[39m*\u001b[39margs, \u001b[39m*\u001b[39m\u001b[39m*\u001b[39mkwargs)\n",
      "File \u001b[1;32m~\\AppData\\Local\\Packages\\PythonSoftwareFoundation.Python.3.10_qbz5n2kfra8p0\\LocalCache\\local-packages\\Python310\\site-packages\\pandas\\io\\parsers\\readers.py:678\u001b[0m, in \u001b[0;36mread_csv\u001b[1;34m(filepath_or_buffer, sep, delimiter, header, names, index_col, usecols, squeeze, prefix, mangle_dupe_cols, dtype, engine, converters, true_values, false_values, skipinitialspace, skiprows, skipfooter, nrows, na_values, keep_default_na, na_filter, verbose, skip_blank_lines, parse_dates, infer_datetime_format, keep_date_col, date_parser, dayfirst, cache_dates, iterator, chunksize, compression, thousands, decimal, lineterminator, quotechar, quoting, doublequote, escapechar, comment, encoding, encoding_errors, dialect, error_bad_lines, warn_bad_lines, on_bad_lines, delim_whitespace, low_memory, memory_map, float_precision, storage_options)\u001b[0m\n\u001b[0;32m    663\u001b[0m kwds_defaults \u001b[39m=\u001b[39m _refine_defaults_read(\n\u001b[0;32m    664\u001b[0m     dialect,\n\u001b[0;32m    665\u001b[0m     delimiter,\n\u001b[1;32m   (...)\u001b[0m\n\u001b[0;32m    674\u001b[0m     defaults\u001b[39m=\u001b[39m{\u001b[39m\"\u001b[39m\u001b[39mdelimiter\u001b[39m\u001b[39m\"\u001b[39m: \u001b[39m\"\u001b[39m\u001b[39m,\u001b[39m\u001b[39m\"\u001b[39m},\n\u001b[0;32m    675\u001b[0m )\n\u001b[0;32m    676\u001b[0m kwds\u001b[39m.\u001b[39mupdate(kwds_defaults)\n\u001b[1;32m--> 678\u001b[0m \u001b[39mreturn\u001b[39;00m _read(filepath_or_buffer, kwds)\n",
      "File \u001b[1;32m~\\AppData\\Local\\Packages\\PythonSoftwareFoundation.Python.3.10_qbz5n2kfra8p0\\LocalCache\\local-packages\\Python310\\site-packages\\pandas\\io\\parsers\\readers.py:575\u001b[0m, in \u001b[0;36m_read\u001b[1;34m(filepath_or_buffer, kwds)\u001b[0m\n\u001b[0;32m    572\u001b[0m _validate_names(kwds\u001b[39m.\u001b[39mget(\u001b[39m\"\u001b[39m\u001b[39mnames\u001b[39m\u001b[39m\"\u001b[39m, \u001b[39mNone\u001b[39;00m))\n\u001b[0;32m    574\u001b[0m \u001b[39m# Create the parser.\u001b[39;00m\n\u001b[1;32m--> 575\u001b[0m parser \u001b[39m=\u001b[39m TextFileReader(filepath_or_buffer, \u001b[39m*\u001b[39m\u001b[39m*\u001b[39mkwds)\n\u001b[0;32m    577\u001b[0m \u001b[39mif\u001b[39;00m chunksize \u001b[39mor\u001b[39;00m iterator:\n\u001b[0;32m    578\u001b[0m     \u001b[39mreturn\u001b[39;00m parser\n",
      "File \u001b[1;32m~\\AppData\\Local\\Packages\\PythonSoftwareFoundation.Python.3.10_qbz5n2kfra8p0\\LocalCache\\local-packages\\Python310\\site-packages\\pandas\\io\\parsers\\readers.py:932\u001b[0m, in \u001b[0;36mTextFileReader.__init__\u001b[1;34m(self, f, engine, **kwds)\u001b[0m\n\u001b[0;32m    929\u001b[0m     \u001b[39mself\u001b[39m\u001b[39m.\u001b[39moptions[\u001b[39m\"\u001b[39m\u001b[39mhas_index_names\u001b[39m\u001b[39m\"\u001b[39m] \u001b[39m=\u001b[39m kwds[\u001b[39m\"\u001b[39m\u001b[39mhas_index_names\u001b[39m\u001b[39m\"\u001b[39m]\n\u001b[0;32m    931\u001b[0m \u001b[39mself\u001b[39m\u001b[39m.\u001b[39mhandles: IOHandles \u001b[39m|\u001b[39m \u001b[39mNone\u001b[39;00m \u001b[39m=\u001b[39m \u001b[39mNone\u001b[39;00m\n\u001b[1;32m--> 932\u001b[0m \u001b[39mself\u001b[39m\u001b[39m.\u001b[39m_engine \u001b[39m=\u001b[39m \u001b[39mself\u001b[39;49m\u001b[39m.\u001b[39;49m_make_engine(f, \u001b[39mself\u001b[39;49m\u001b[39m.\u001b[39;49mengine)\n",
      "File \u001b[1;32m~\\AppData\\Local\\Packages\\PythonSoftwareFoundation.Python.3.10_qbz5n2kfra8p0\\LocalCache\\local-packages\\Python310\\site-packages\\pandas\\io\\parsers\\readers.py:1216\u001b[0m, in \u001b[0;36mTextFileReader._make_engine\u001b[1;34m(self, f, engine)\u001b[0m\n\u001b[0;32m   1212\u001b[0m     mode \u001b[39m=\u001b[39m \u001b[39m\"\u001b[39m\u001b[39mrb\u001b[39m\u001b[39m\"\u001b[39m\n\u001b[0;32m   1213\u001b[0m \u001b[39m# error: No overload variant of \"get_handle\" matches argument types\u001b[39;00m\n\u001b[0;32m   1214\u001b[0m \u001b[39m# \"Union[str, PathLike[str], ReadCsvBuffer[bytes], ReadCsvBuffer[str]]\"\u001b[39;00m\n\u001b[0;32m   1215\u001b[0m \u001b[39m# , \"str\", \"bool\", \"Any\", \"Any\", \"Any\", \"Any\", \"Any\"\u001b[39;00m\n\u001b[1;32m-> 1216\u001b[0m \u001b[39mself\u001b[39m\u001b[39m.\u001b[39mhandles \u001b[39m=\u001b[39m get_handle(  \u001b[39m# type: ignore[call-overload]\u001b[39;49;00m\n\u001b[0;32m   1217\u001b[0m     f,\n\u001b[0;32m   1218\u001b[0m     mode,\n\u001b[0;32m   1219\u001b[0m     encoding\u001b[39m=\u001b[39;49m\u001b[39mself\u001b[39;49m\u001b[39m.\u001b[39;49moptions\u001b[39m.\u001b[39;49mget(\u001b[39m\"\u001b[39;49m\u001b[39mencoding\u001b[39;49m\u001b[39m\"\u001b[39;49m, \u001b[39mNone\u001b[39;49;00m),\n\u001b[0;32m   1220\u001b[0m     compression\u001b[39m=\u001b[39;49m\u001b[39mself\u001b[39;49m\u001b[39m.\u001b[39;49moptions\u001b[39m.\u001b[39;49mget(\u001b[39m\"\u001b[39;49m\u001b[39mcompression\u001b[39;49m\u001b[39m\"\u001b[39;49m, \u001b[39mNone\u001b[39;49;00m),\n\u001b[0;32m   1221\u001b[0m     memory_map\u001b[39m=\u001b[39;49m\u001b[39mself\u001b[39;49m\u001b[39m.\u001b[39;49moptions\u001b[39m.\u001b[39;49mget(\u001b[39m\"\u001b[39;49m\u001b[39mmemory_map\u001b[39;49m\u001b[39m\"\u001b[39;49m, \u001b[39mFalse\u001b[39;49;00m),\n\u001b[0;32m   1222\u001b[0m     is_text\u001b[39m=\u001b[39;49mis_text,\n\u001b[0;32m   1223\u001b[0m     errors\u001b[39m=\u001b[39;49m\u001b[39mself\u001b[39;49m\u001b[39m.\u001b[39;49moptions\u001b[39m.\u001b[39;49mget(\u001b[39m\"\u001b[39;49m\u001b[39mencoding_errors\u001b[39;49m\u001b[39m\"\u001b[39;49m, \u001b[39m\"\u001b[39;49m\u001b[39mstrict\u001b[39;49m\u001b[39m\"\u001b[39;49m),\n\u001b[0;32m   1224\u001b[0m     storage_options\u001b[39m=\u001b[39;49m\u001b[39mself\u001b[39;49m\u001b[39m.\u001b[39;49moptions\u001b[39m.\u001b[39;49mget(\u001b[39m\"\u001b[39;49m\u001b[39mstorage_options\u001b[39;49m\u001b[39m\"\u001b[39;49m, \u001b[39mNone\u001b[39;49;00m),\n\u001b[0;32m   1225\u001b[0m )\n\u001b[0;32m   1226\u001b[0m \u001b[39massert\u001b[39;00m \u001b[39mself\u001b[39m\u001b[39m.\u001b[39mhandles \u001b[39mis\u001b[39;00m \u001b[39mnot\u001b[39;00m \u001b[39mNone\u001b[39;00m\n\u001b[0;32m   1227\u001b[0m f \u001b[39m=\u001b[39m \u001b[39mself\u001b[39m\u001b[39m.\u001b[39mhandles\u001b[39m.\u001b[39mhandle\n",
      "File \u001b[1;32m~\\AppData\\Local\\Packages\\PythonSoftwareFoundation.Python.3.10_qbz5n2kfra8p0\\LocalCache\\local-packages\\Python310\\site-packages\\pandas\\io\\common.py:786\u001b[0m, in \u001b[0;36mget_handle\u001b[1;34m(path_or_buf, mode, encoding, compression, memory_map, is_text, errors, storage_options)\u001b[0m\n\u001b[0;32m    781\u001b[0m \u001b[39melif\u001b[39;00m \u001b[39misinstance\u001b[39m(handle, \u001b[39mstr\u001b[39m):\n\u001b[0;32m    782\u001b[0m     \u001b[39m# Check whether the filename is to be opened in binary mode.\u001b[39;00m\n\u001b[0;32m    783\u001b[0m     \u001b[39m# Binary mode does not support 'encoding' and 'newline'.\u001b[39;00m\n\u001b[0;32m    784\u001b[0m     \u001b[39mif\u001b[39;00m ioargs\u001b[39m.\u001b[39mencoding \u001b[39mand\u001b[39;00m \u001b[39m\"\u001b[39m\u001b[39mb\u001b[39m\u001b[39m\"\u001b[39m \u001b[39mnot\u001b[39;00m \u001b[39min\u001b[39;00m ioargs\u001b[39m.\u001b[39mmode:\n\u001b[0;32m    785\u001b[0m         \u001b[39m# Encoding\u001b[39;00m\n\u001b[1;32m--> 786\u001b[0m         handle \u001b[39m=\u001b[39m \u001b[39mopen\u001b[39;49m(\n\u001b[0;32m    787\u001b[0m             handle,\n\u001b[0;32m    788\u001b[0m             ioargs\u001b[39m.\u001b[39;49mmode,\n\u001b[0;32m    789\u001b[0m             encoding\u001b[39m=\u001b[39;49mioargs\u001b[39m.\u001b[39;49mencoding,\n\u001b[0;32m    790\u001b[0m             errors\u001b[39m=\u001b[39;49merrors,\n\u001b[0;32m    791\u001b[0m             newline\u001b[39m=\u001b[39;49m\u001b[39m\"\u001b[39;49m\u001b[39m\"\u001b[39;49m,\n\u001b[0;32m    792\u001b[0m         )\n\u001b[0;32m    793\u001b[0m     \u001b[39melse\u001b[39;00m:\n\u001b[0;32m    794\u001b[0m         \u001b[39m# Binary mode\u001b[39;00m\n\u001b[0;32m    795\u001b[0m         handle \u001b[39m=\u001b[39m \u001b[39mopen\u001b[39m(handle, ioargs\u001b[39m.\u001b[39mmode)\n",
      "\u001b[1;31mFileNotFoundError\u001b[0m: [Errno 2] No such file or directory: 'c:\\\\Users\\\\matth\\\\Documents\\\\GitHub\\\\urban_data_project\\\\python/normalized/clean_normalized.csv'"
     ]
    }
   ],
   "source": [
    "# Read normalized csv file\n",
    "df_data = pd.read_csv(os.getcwd() + '/normalized/clean_normalized.csv') # TODO: fix path problem\n",
    "\n",
    "# Annotation list\n",
    "lst_annotate = list(df_data['NAME'])\n",
    "\n",
    "# Make zipcode to index of dataframe\n",
    "# df_data.set_index('NAME', inplace = True)\n",
    "df_data.drop(columns = ['NAME'])\n",
    "\n",
    "# Normalization\n",
    "X = df_data.values.copy()\n",
    "non_normalized_X = df_data.values.copy()\n",
    "for j in range(X.shape[1]):\n",
    "    non_normalized_X[:, j] = non_normalized_X[:, j] - non_normalized_X[:, j].mean()\n",
    "    X[:, j] = (X[:, j] - X[:, j].mean()) / X[:, j].std()\n"
   ]
  },
  {
   "cell_type": "code",
   "execution_count": null,
   "metadata": {},
   "outputs": [
    {
     "ename": "NameError",
     "evalue": "name 'PCA' is not defined",
     "output_type": "error",
     "traceback": [
      "\u001b[1;31m---------------------------------------------------------------------------\u001b[0m",
      "\u001b[1;31mNameError\u001b[0m                                 Traceback (most recent call last)",
      "\u001b[1;32mc:\\Users\\matth\\Documents\\GitHub\\urban_data_project\\python\\4_ML.ipynb Cell 3\u001b[0m in \u001b[0;36m<cell line: 2>\u001b[1;34m()\u001b[0m\n\u001b[0;32m      <a href='vscode-notebook-cell:/c%3A/Users/matth/Documents/GitHub/urban_data_project/python/4_ML.ipynb#W2sZmlsZQ%3D%3D?line=0'>1</a>\u001b[0m \u001b[39m# Apply PCA model\u001b[39;00m\n\u001b[1;32m----> <a href='vscode-notebook-cell:/c%3A/Users/matth/Documents/GitHub/urban_data_project/python/4_ML.ipynb#W2sZmlsZQ%3D%3D?line=1'>2</a>\u001b[0m model \u001b[39m=\u001b[39m PCA(n_components\u001b[39m=\u001b[39mX\u001b[39m.\u001b[39mshape[\u001b[39m1\u001b[39m])\n\u001b[0;32m      <a href='vscode-notebook-cell:/c%3A/Users/matth/Documents/GitHub/urban_data_project/python/4_ML.ipynb#W2sZmlsZQ%3D%3D?line=2'>3</a>\u001b[0m model\u001b[39m.\u001b[39mfit(X)\n\u001b[0;32m      <a href='vscode-notebook-cell:/c%3A/Users/matth/Documents/GitHub/urban_data_project/python/4_ML.ipynb#W2sZmlsZQ%3D%3D?line=4'>5</a>\u001b[0m \u001b[39m# Transform the exisitng model\u001b[39;00m\n",
      "\u001b[1;31mNameError\u001b[0m: name 'PCA' is not defined"
     ]
    }
   ],
   "source": [
    "# Apply PCA model\n",
    "model = PCA(n_components=X.shape[1])\n",
    "model.fit(X)\n",
    "\n",
    "# Transform the exisitng model\n",
    "transformed_X = model.transform(X)\n",
    "\n",
    "# Get index of williamsburg\n",
    "int_zip_index = lst_annotate.index(11237)\n",
    "\n",
    "\n",
    "# Plot first and second PC\n",
    "plt.scatter(transformed_X[:,0], transformed_X[:,1], alpha = 0.3)\n",
    "plt.xlabel(\"First PC\")\n",
    "plt.ylabel(\"Second PC\")\n",
    "plt.annotate(lst_annotate[int_zip_index],(transformed_X[int_zip_index,0], transformed_X[int_zip_index,1]),arrowprops=dict(facecolor='black', shrink=0.05))\n",
    "\n",
    "plt.show()"
   ]
  },
  {
   "cell_type": "code",
   "execution_count": null,
   "metadata": {},
   "outputs": [
    {
     "data": {
      "text/html": [
       "<style type=\"text/css\">\n",
       "#T_19315_row0_col0 {\n",
       "  background-color: #ff3636;\n",
       "  color: #f1f1f1;\n",
       "}\n",
       "#T_19315_row0_col1 {\n",
       "  background-color: #5454ff;\n",
       "  color: #f1f1f1;\n",
       "}\n",
       "#T_19315_row1_col0 {\n",
       "  background-color: #ff8686;\n",
       "  color: #f1f1f1;\n",
       "}\n",
       "#T_19315_row1_col1 {\n",
       "  background-color: #ff5e5e;\n",
       "  color: #f1f1f1;\n",
       "}\n",
       "#T_19315_row2_col0 {\n",
       "  background-color: #ff9e9e;\n",
       "  color: #000000;\n",
       "}\n",
       "#T_19315_row2_col1 {\n",
       "  background-color: #3030ff;\n",
       "  color: #f1f1f1;\n",
       "}\n",
       "#T_19315_row3_col0 {\n",
       "  background-color: #d8d8ff;\n",
       "  color: #000000;\n",
       "}\n",
       "#T_19315_row3_col1 {\n",
       "  background-color: #0c0cff;\n",
       "  color: #f1f1f1;\n",
       "}\n",
       "#T_19315_row4_col0 {\n",
       "  background-color: #2222ff;\n",
       "  color: #f1f1f1;\n",
       "}\n",
       "#T_19315_row4_col1 {\n",
       "  background-color: #6868ff;\n",
       "  color: #f1f1f1;\n",
       "}\n",
       "#T_19315_row5_col0 {\n",
       "  background-color: #0000ff;\n",
       "  color: #f1f1f1;\n",
       "}\n",
       "#T_19315_row5_col1 {\n",
       "  background-color: #ffe0e0;\n",
       "  color: #000000;\n",
       "}\n",
       "</style>\n",
       "<table id=\"T_19315\">\n",
       "  <thead>\n",
       "    <tr>\n",
       "      <th class=\"blank level0\" >&nbsp;</th>\n",
       "      <th id=\"T_19315_level0_col0\" class=\"col_heading level0 col0\" >PC 1</th>\n",
       "      <th id=\"T_19315_level0_col1\" class=\"col_heading level0 col1\" >PC 2</th>\n",
       "      <th id=\"T_19315_level0_col2\" class=\"col_heading level0 col2\" >features</th>\n",
       "    </tr>\n",
       "  </thead>\n",
       "  <tbody>\n",
       "    <tr>\n",
       "      <th id=\"T_19315_level0_row0\" class=\"row_heading level0 row0\" >5</th>\n",
       "      <td id=\"T_19315_row0_col0\" class=\"data row0 col0\" >0.471548</td>\n",
       "      <td id=\"T_19315_row0_col1\" class=\"data row0 col1\" >-0.403071</td>\n",
       "      <td id=\"T_19315_row0_col2\" class=\"data row0 col2\" >gross_rent_median_price_delta</td>\n",
       "    </tr>\n",
       "    <tr>\n",
       "      <th id=\"T_19315_level0_row1\" class=\"row_heading level0 row1\" >0</th>\n",
       "      <td id=\"T_19315_row1_col0\" class=\"data row1 col0\" >0.282735</td>\n",
       "      <td id=\"T_19315_row1_col1\" class=\"data row1 col1\" >0.380141</td>\n",
       "      <td id=\"T_19315_row1_col2\" class=\"data row1 col2\" >median_age_delta</td>\n",
       "    </tr>\n",
       "    <tr>\n",
       "      <th id=\"T_19315_level0_row2\" class=\"row_heading level0 row2\" >2</th>\n",
       "      <td id=\"T_19315_row2_col0\" class=\"data row2 col0\" >0.228683</td>\n",
       "      <td id=\"T_19315_row2_col1\" class=\"data row2 col1\" >-0.487308</td>\n",
       "      <td id=\"T_19315_row2_col2\" class=\"data row2 col2\" >household_income_delta</td>\n",
       "    </tr>\n",
       "    <tr>\n",
       "      <th id=\"T_19315_level0_row3\" class=\"row_heading level0 row3\" >4</th>\n",
       "      <td id=\"T_19315_row3_col0\" class=\"data row3 col0\" >-0.093966</td>\n",
       "      <td id=\"T_19315_row3_col1\" class=\"data row3 col1\" >-0.570014</td>\n",
       "      <td id=\"T_19315_row3_col2\" class=\"data row3 col2\" >bachelors_percent_delta</td>\n",
       "    </tr>\n",
       "    <tr>\n",
       "      <th id=\"T_19315_level0_row4\" class=\"row_heading level0 row4\" >1</th>\n",
       "      <td id=\"T_19315_row4_col0\" class=\"data row4 col0\" >-0.522714</td>\n",
       "      <td id=\"T_19315_row4_col1\" class=\"data row4 col1\" >-0.353829</td>\n",
       "      <td id=\"T_19315_row4_col2\" class=\"data row4 col2\" >white_non-hispanic_percent_delta</td>\n",
       "    </tr>\n",
       "    <tr>\n",
       "      <th id=\"T_19315_level0_row5\" class=\"row_heading level0 row5\" >3</th>\n",
       "      <td id=\"T_19315_row5_col0\" class=\"data row5 col0\" >-0.602783</td>\n",
       "      <td id=\"T_19315_row5_col1\" class=\"data row5 col1\" >0.073802</td>\n",
       "      <td id=\"T_19315_row5_col2\" class=\"data row5 col2\" >foreign_born_not_a_us_citizen_percent_delta</td>\n",
       "    </tr>\n",
       "  </tbody>\n",
       "</table>\n"
      ],
      "text/plain": [
       "<pandas.io.formats.style.Styler at 0x78e0800a9340>"
      ]
     },
     "execution_count": 8,
     "metadata": {},
     "output_type": "execute_result"
    }
   ],
   "source": [
    "# Print out model components with respective feature\n",
    "component_weights = pd.DataFrame({'PC 1':model.components_[0, :], \n",
    "                                 'PC 2':model.components_[1, :], \n",
    "                                 'features':df_data.columns}).sort_values(by='PC 1')[::-1]\n",
    "max_val = np.abs(component_weights[['PC 1', 'PC 2']].values).max()\n",
    "component_weights.style.background_gradient(cmap='bwr', vmin=-max_val, vmax=max_val) # weight color"
   ]
  }
 ],
 "metadata": {
  "kernelspec": {
   "display_name": "Python 3.10.8 64-bit (microsoft store)",
   "language": "python",
   "name": "python3"
  },
  "language_info": {
   "codemirror_mode": {
    "name": "ipython",
    "version": 3
   },
   "file_extension": ".py",
   "mimetype": "text/x-python",
   "name": "python",
   "nbconvert_exporter": "python",
   "pygments_lexer": "ipython3",
   "version": "3.10.8"
  },
  "orig_nbformat": 4,
  "vscode": {
   "interpreter": {
    "hash": "e50035b3dfd539dbd2dca26cbba61024e04488120c7d4591534a01642a5bb0ca"
   }
  }
 },
 "nbformat": 4,
 "nbformat_minor": 2
}
