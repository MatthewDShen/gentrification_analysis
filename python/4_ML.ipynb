{
 "cells": [
  {
   "cell_type": "code",
   "execution_count": 5,
   "metadata": {},
   "outputs": [],
   "source": [
    "# import libs especially pandas b/c pandas is a nice name\n",
    "import pandas as pd, os, matplotlib.pyplot as plt, numpy as np\n",
    "from sklearn.decomposition import PCA\n"
   ]
  },
  {
   "cell_type": "code",
   "execution_count": 6,
   "metadata": {},
   "outputs": [],
   "source": [
    "# Read normalized csv file\n",
    "df_data = pd.read_csv('/home/matthewdshen/GitHub/urban_data_project/analysis/normalized/clean_normalized.csv') # TODO: fix path problem\n",
    "\n",
    "# Make zipcode to index of dataframe\n",
    "df_data.set_index('NAME', inplace = True)\n",
    "\n",
    "# Normalization\n",
    "X = df_data.values.copy()\n",
    "non_normalized_X = df_data.values.copy()\n",
    "for j in range(X.shape[1]):\n",
    "    non_normalized_X[:, j] = non_normalized_X[:, j] - non_normalized_X[:, j].mean()\n",
    "    X[:, j] = (X[:, j] - X[:, j].mean()) / X[:, j].std()\n"
   ]
  },
  {
   "cell_type": "code",
   "execution_count": null,
   "metadata": {},
   "outputs": [],
   "source": []
  },
  {
   "cell_type": "code",
   "execution_count": 13,
   "metadata": {},
   "outputs": [
    {
     "ename": "KeyError",
     "evalue": "'NAME'",
     "output_type": "error",
     "traceback": [
      "\u001b[0;31m---------------------------------------------------------------------------\u001b[0m",
      "\u001b[0;31mKeyError\u001b[0m                                  Traceback (most recent call last)",
      "File \u001b[0;32m~/.local/lib/python3.9/site-packages/pandas/core/indexes/base.py:3800\u001b[0m, in \u001b[0;36mIndex.get_loc\u001b[0;34m(self, key, method, tolerance)\u001b[0m\n\u001b[1;32m   3799\u001b[0m \u001b[39mtry\u001b[39;00m:\n\u001b[0;32m-> 3800\u001b[0m     \u001b[39mreturn\u001b[39;00m \u001b[39mself\u001b[39;49m\u001b[39m.\u001b[39;49m_engine\u001b[39m.\u001b[39;49mget_loc(casted_key)\n\u001b[1;32m   3801\u001b[0m \u001b[39mexcept\u001b[39;00m \u001b[39mKeyError\u001b[39;00m \u001b[39mas\u001b[39;00m err:\n",
      "File \u001b[0;32m~/.local/lib/python3.9/site-packages/pandas/_libs/index.pyx:138\u001b[0m, in \u001b[0;36mpandas._libs.index.IndexEngine.get_loc\u001b[0;34m()\u001b[0m\n",
      "File \u001b[0;32m~/.local/lib/python3.9/site-packages/pandas/_libs/index.pyx:165\u001b[0m, in \u001b[0;36mpandas._libs.index.IndexEngine.get_loc\u001b[0;34m()\u001b[0m\n",
      "File \u001b[0;32mpandas/_libs/hashtable_class_helper.pxi:5745\u001b[0m, in \u001b[0;36mpandas._libs.hashtable.PyObjectHashTable.get_item\u001b[0;34m()\u001b[0m\n",
      "File \u001b[0;32mpandas/_libs/hashtable_class_helper.pxi:5753\u001b[0m, in \u001b[0;36mpandas._libs.hashtable.PyObjectHashTable.get_item\u001b[0;34m()\u001b[0m\n",
      "\u001b[0;31mKeyError\u001b[0m: 'NAME'",
      "\nThe above exception was the direct cause of the following exception:\n",
      "\u001b[0;31mKeyError\u001b[0m                                  Traceback (most recent call last)",
      "Cell \u001b[0;32mIn [13], line 9\u001b[0m\n\u001b[1;32m      6\u001b[0m transformed_X \u001b[39m=\u001b[39m model\u001b[39m.\u001b[39mtransform(X)\n\u001b[1;32m      8\u001b[0m \u001b[39m# Annotation list\u001b[39;00m\n\u001b[0;32m----> 9\u001b[0m lst_annotate \u001b[39m=\u001b[39m df_data[\u001b[39m'\u001b[39m\u001b[39mNAME\u001b[39m\u001b[39m'\u001b[39m]\n\u001b[1;32m     11\u001b[0m \u001b[39m# Plot first and second PC\u001b[39;00m\n\u001b[1;32m     12\u001b[0m plt\u001b[39m.\u001b[39mscatter(transformed_X[:,\u001b[39m0\u001b[39m], transformed_X[:,\u001b[39m1\u001b[39m], alpha \u001b[39m=\u001b[39m \u001b[39m0.3\u001b[39m)\n",
      "File \u001b[0;32m~/.local/lib/python3.9/site-packages/pandas/core/frame.py:3805\u001b[0m, in \u001b[0;36mDataFrame.__getitem__\u001b[0;34m(self, key)\u001b[0m\n\u001b[1;32m   3803\u001b[0m \u001b[39mif\u001b[39;00m \u001b[39mself\u001b[39m\u001b[39m.\u001b[39mcolumns\u001b[39m.\u001b[39mnlevels \u001b[39m>\u001b[39m \u001b[39m1\u001b[39m:\n\u001b[1;32m   3804\u001b[0m     \u001b[39mreturn\u001b[39;00m \u001b[39mself\u001b[39m\u001b[39m.\u001b[39m_getitem_multilevel(key)\n\u001b[0;32m-> 3805\u001b[0m indexer \u001b[39m=\u001b[39m \u001b[39mself\u001b[39;49m\u001b[39m.\u001b[39;49mcolumns\u001b[39m.\u001b[39;49mget_loc(key)\n\u001b[1;32m   3806\u001b[0m \u001b[39mif\u001b[39;00m is_integer(indexer):\n\u001b[1;32m   3807\u001b[0m     indexer \u001b[39m=\u001b[39m [indexer]\n",
      "File \u001b[0;32m~/.local/lib/python3.9/site-packages/pandas/core/indexes/base.py:3802\u001b[0m, in \u001b[0;36mIndex.get_loc\u001b[0;34m(self, key, method, tolerance)\u001b[0m\n\u001b[1;32m   3800\u001b[0m     \u001b[39mreturn\u001b[39;00m \u001b[39mself\u001b[39m\u001b[39m.\u001b[39m_engine\u001b[39m.\u001b[39mget_loc(casted_key)\n\u001b[1;32m   3801\u001b[0m \u001b[39mexcept\u001b[39;00m \u001b[39mKeyError\u001b[39;00m \u001b[39mas\u001b[39;00m err:\n\u001b[0;32m-> 3802\u001b[0m     \u001b[39mraise\u001b[39;00m \u001b[39mKeyError\u001b[39;00m(key) \u001b[39mfrom\u001b[39;00m \u001b[39merr\u001b[39;00m\n\u001b[1;32m   3803\u001b[0m \u001b[39mexcept\u001b[39;00m \u001b[39mTypeError\u001b[39;00m:\n\u001b[1;32m   3804\u001b[0m     \u001b[39m# If we have a listlike key, _check_indexing_error will raise\u001b[39;00m\n\u001b[1;32m   3805\u001b[0m     \u001b[39m#  InvalidIndexError. Otherwise we fall through and re-raise\u001b[39;00m\n\u001b[1;32m   3806\u001b[0m     \u001b[39m#  the TypeError.\u001b[39;00m\n\u001b[1;32m   3807\u001b[0m     \u001b[39mself\u001b[39m\u001b[39m.\u001b[39m_check_indexing_error(key)\n",
      "\u001b[0;31mKeyError\u001b[0m: 'NAME'"
     ]
    }
   ],
   "source": [
    "# Apply PCA model\n",
    "model = PCA(n_components=X.shape[1])\n",
    "model.fit(X)\n",
    "\n",
    "# Transform the exisitng model\n",
    "transformed_X = model.transform(X)\n",
    "\n",
    "# Annotation list\n",
    "lst_annotate = df_data['NAME']\n",
    "\n",
    "# Plot first and second PC\n",
    "plt.scatter(transformed_X[:,0], transformed_X[:,1], alpha = 0.3)\n",
    "plt.xlabel(\"First PC\")\n",
    "plt.ylabel(\"Second PC\")\n",
    "# plt.annotate()\n",
    "\n",
    "plt.show()"
   ]
  },
  {
   "cell_type": "code",
   "execution_count": 8,
   "metadata": {},
   "outputs": [
    {
     "data": {
      "text/html": [
       "<style type=\"text/css\">\n",
       "#T_19315_row0_col0 {\n",
       "  background-color: #ff3636;\n",
       "  color: #f1f1f1;\n",
       "}\n",
       "#T_19315_row0_col1 {\n",
       "  background-color: #5454ff;\n",
       "  color: #f1f1f1;\n",
       "}\n",
       "#T_19315_row1_col0 {\n",
       "  background-color: #ff8686;\n",
       "  color: #f1f1f1;\n",
       "}\n",
       "#T_19315_row1_col1 {\n",
       "  background-color: #ff5e5e;\n",
       "  color: #f1f1f1;\n",
       "}\n",
       "#T_19315_row2_col0 {\n",
       "  background-color: #ff9e9e;\n",
       "  color: #000000;\n",
       "}\n",
       "#T_19315_row2_col1 {\n",
       "  background-color: #3030ff;\n",
       "  color: #f1f1f1;\n",
       "}\n",
       "#T_19315_row3_col0 {\n",
       "  background-color: #d8d8ff;\n",
       "  color: #000000;\n",
       "}\n",
       "#T_19315_row3_col1 {\n",
       "  background-color: #0c0cff;\n",
       "  color: #f1f1f1;\n",
       "}\n",
       "#T_19315_row4_col0 {\n",
       "  background-color: #2222ff;\n",
       "  color: #f1f1f1;\n",
       "}\n",
       "#T_19315_row4_col1 {\n",
       "  background-color: #6868ff;\n",
       "  color: #f1f1f1;\n",
       "}\n",
       "#T_19315_row5_col0 {\n",
       "  background-color: #0000ff;\n",
       "  color: #f1f1f1;\n",
       "}\n",
       "#T_19315_row5_col1 {\n",
       "  background-color: #ffe0e0;\n",
       "  color: #000000;\n",
       "}\n",
       "</style>\n",
       "<table id=\"T_19315\">\n",
       "  <thead>\n",
       "    <tr>\n",
       "      <th class=\"blank level0\" >&nbsp;</th>\n",
       "      <th id=\"T_19315_level0_col0\" class=\"col_heading level0 col0\" >PC 1</th>\n",
       "      <th id=\"T_19315_level0_col1\" class=\"col_heading level0 col1\" >PC 2</th>\n",
       "      <th id=\"T_19315_level0_col2\" class=\"col_heading level0 col2\" >features</th>\n",
       "    </tr>\n",
       "  </thead>\n",
       "  <tbody>\n",
       "    <tr>\n",
       "      <th id=\"T_19315_level0_row0\" class=\"row_heading level0 row0\" >5</th>\n",
       "      <td id=\"T_19315_row0_col0\" class=\"data row0 col0\" >0.471548</td>\n",
       "      <td id=\"T_19315_row0_col1\" class=\"data row0 col1\" >-0.403071</td>\n",
       "      <td id=\"T_19315_row0_col2\" class=\"data row0 col2\" >gross_rent_median_price_delta</td>\n",
       "    </tr>\n",
       "    <tr>\n",
       "      <th id=\"T_19315_level0_row1\" class=\"row_heading level0 row1\" >0</th>\n",
       "      <td id=\"T_19315_row1_col0\" class=\"data row1 col0\" >0.282735</td>\n",
       "      <td id=\"T_19315_row1_col1\" class=\"data row1 col1\" >0.380141</td>\n",
       "      <td id=\"T_19315_row1_col2\" class=\"data row1 col2\" >median_age_delta</td>\n",
       "    </tr>\n",
       "    <tr>\n",
       "      <th id=\"T_19315_level0_row2\" class=\"row_heading level0 row2\" >2</th>\n",
       "      <td id=\"T_19315_row2_col0\" class=\"data row2 col0\" >0.228683</td>\n",
       "      <td id=\"T_19315_row2_col1\" class=\"data row2 col1\" >-0.487308</td>\n",
       "      <td id=\"T_19315_row2_col2\" class=\"data row2 col2\" >household_income_delta</td>\n",
       "    </tr>\n",
       "    <tr>\n",
       "      <th id=\"T_19315_level0_row3\" class=\"row_heading level0 row3\" >4</th>\n",
       "      <td id=\"T_19315_row3_col0\" class=\"data row3 col0\" >-0.093966</td>\n",
       "      <td id=\"T_19315_row3_col1\" class=\"data row3 col1\" >-0.570014</td>\n",
       "      <td id=\"T_19315_row3_col2\" class=\"data row3 col2\" >bachelors_percent_delta</td>\n",
       "    </tr>\n",
       "    <tr>\n",
       "      <th id=\"T_19315_level0_row4\" class=\"row_heading level0 row4\" >1</th>\n",
       "      <td id=\"T_19315_row4_col0\" class=\"data row4 col0\" >-0.522714</td>\n",
       "      <td id=\"T_19315_row4_col1\" class=\"data row4 col1\" >-0.353829</td>\n",
       "      <td id=\"T_19315_row4_col2\" class=\"data row4 col2\" >white_non-hispanic_percent_delta</td>\n",
       "    </tr>\n",
       "    <tr>\n",
       "      <th id=\"T_19315_level0_row5\" class=\"row_heading level0 row5\" >3</th>\n",
       "      <td id=\"T_19315_row5_col0\" class=\"data row5 col0\" >-0.602783</td>\n",
       "      <td id=\"T_19315_row5_col1\" class=\"data row5 col1\" >0.073802</td>\n",
       "      <td id=\"T_19315_row5_col2\" class=\"data row5 col2\" >foreign_born_not_a_us_citizen_percent_delta</td>\n",
       "    </tr>\n",
       "  </tbody>\n",
       "</table>\n"
      ],
      "text/plain": [
       "<pandas.io.formats.style.Styler at 0x78e0800a9340>"
      ]
     },
     "execution_count": 8,
     "metadata": {},
     "output_type": "execute_result"
    }
   ],
   "source": [
    "# Print out model components with respective feature\n",
    "component_weights = pd.DataFrame({'PC 1':model.components_[0, :], \n",
    "                                 'PC 2':model.components_[1, :], \n",
    "                                 'features':df_data.columns}).sort_values(by='PC 1')[::-1]\n",
    "max_val = np.abs(component_weights[['PC 1', 'PC 2']].values).max()\n",
    "component_weights.style.background_gradient(cmap='bwr', vmin=-max_val, vmax=max_val) # weight color"
   ]
  },
  {
   "cell_type": "code",
   "execution_count": null,
   "metadata": {},
   "outputs": [],
   "source": []
  }
 ],
 "metadata": {
  "kernelspec": {
   "display_name": "Python 3.9.2 64-bit",
   "language": "python",
   "name": "python3"
  },
  "language_info": {
   "codemirror_mode": {
    "name": "ipython",
    "version": 3
   },
   "file_extension": ".py",
   "mimetype": "text/x-python",
   "name": "python",
   "nbconvert_exporter": "python",
   "pygments_lexer": "ipython3",
   "version": "3.9.2"
  },
  "orig_nbformat": 4,
  "vscode": {
   "interpreter": {
    "hash": "916dbcbb3f70747c44a77c7bcd40155683ae19c65e1c03b4aa3499c5328201f1"
   }
  }
 },
 "nbformat": 4,
 "nbformat_minor": 2
}
