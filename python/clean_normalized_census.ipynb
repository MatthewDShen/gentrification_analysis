{
 "cells": [
  {
   "cell_type": "code",
   "execution_count": 11,
   "metadata": {},
   "outputs": [
    {
     "ename": "TypeError",
     "evalue": "unsupported operand type(s) for -: 'str' and 'str'",
     "output_type": "error",
     "traceback": [
      "\u001b[0;31m---------------------------------------------------------------------------\u001b[0m",
      "\u001b[0;31mTypeError\u001b[0m                                 Traceback (most recent call last)",
      "File \u001b[0;32m/usr/local/lib/python3.10/site-packages/pandas/core/ops/array_ops.py:163\u001b[0m, in \u001b[0;36m_na_arithmetic_op\u001b[0;34m(left, right, op, is_cmp)\u001b[0m\n\u001b[1;32m    162\u001b[0m \u001b[39mtry\u001b[39;00m:\n\u001b[0;32m--> 163\u001b[0m     result \u001b[39m=\u001b[39m func(left, right)\n\u001b[1;32m    164\u001b[0m \u001b[39mexcept\u001b[39;00m \u001b[39mTypeError\u001b[39;00m:\n",
      "\u001b[0;31mTypeError\u001b[0m: unsupported operand type(s) for -: 'str' and 'str'",
      "\nDuring handling of the above exception, another exception occurred:\n",
      "\u001b[0;31mTypeError\u001b[0m                                 Traceback (most recent call last)",
      "\u001b[1;32mUntitled-1.ipynb Cell 1\u001b[0m in \u001b[0;36m<cell line: 73>\u001b[0;34m()\u001b[0m\n\u001b[1;32m     <a href='vscode-notebook-cell:Untitled-1.ipynb?jupyter-notebook#W0sdW50aXRsZWQ%3D?line=68'>69</a>\u001b[0m         result[feature_name] \u001b[39m=\u001b[39m (df[feature_name] \u001b[39m-\u001b[39m min_value) \u001b[39m/\u001b[39m (max_value \u001b[39m-\u001b[39m min_value)\n\u001b[1;32m     <a href='vscode-notebook-cell:Untitled-1.ipynb?jupyter-notebook#W0sdW50aXRsZWQ%3D?line=69'>70</a>\u001b[0m     \u001b[39mreturn\u001b[39;00m result\n\u001b[0;32m---> <a href='vscode-notebook-cell:Untitled-1.ipynb?jupyter-notebook#W0sdW50aXRsZWQ%3D?line=72'>73</a>\u001b[0m normalize(census_2011)\n\u001b[1;32m     <a href='vscode-notebook-cell:Untitled-1.ipynb?jupyter-notebook#W0sdW50aXRsZWQ%3D?line=73'>74</a>\u001b[0m \u001b[39mprint\u001b[39m(census_2011\u001b[39m.\u001b[39mhead)\n",
      "\u001b[1;32mUntitled-1.ipynb Cell 1\u001b[0m in \u001b[0;36mnormalize\u001b[0;34m(df)\u001b[0m\n\u001b[1;32m     <a href='vscode-notebook-cell:Untitled-1.ipynb?jupyter-notebook#W0sdW50aXRsZWQ%3D?line=66'>67</a>\u001b[0m     max_value \u001b[39m=\u001b[39m df[feature_name]\u001b[39m.\u001b[39mmax()\n\u001b[1;32m     <a href='vscode-notebook-cell:Untitled-1.ipynb?jupyter-notebook#W0sdW50aXRsZWQ%3D?line=67'>68</a>\u001b[0m     min_value \u001b[39m=\u001b[39m df[feature_name]\u001b[39m.\u001b[39mmin()\n\u001b[0;32m---> <a href='vscode-notebook-cell:Untitled-1.ipynb?jupyter-notebook#W0sdW50aXRsZWQ%3D?line=68'>69</a>\u001b[0m     result[feature_name] \u001b[39m=\u001b[39m (df[feature_name] \u001b[39m-\u001b[39;49m min_value) \u001b[39m/\u001b[39m (max_value \u001b[39m-\u001b[39m min_value)\n\u001b[1;32m     <a href='vscode-notebook-cell:Untitled-1.ipynb?jupyter-notebook#W0sdW50aXRsZWQ%3D?line=69'>70</a>\u001b[0m \u001b[39mreturn\u001b[39;00m result\n",
      "File \u001b[0;32m/usr/local/lib/python3.10/site-packages/pandas/core/ops/common.py:70\u001b[0m, in \u001b[0;36m_unpack_zerodim_and_defer.<locals>.new_method\u001b[0;34m(self, other)\u001b[0m\n\u001b[1;32m     66\u001b[0m             \u001b[39mreturn\u001b[39;00m \u001b[39mNotImplemented\u001b[39m\n\u001b[1;32m     68\u001b[0m other \u001b[39m=\u001b[39m item_from_zerodim(other)\n\u001b[0;32m---> 70\u001b[0m \u001b[39mreturn\u001b[39;00m method(\u001b[39mself\u001b[39;49m, other)\n",
      "File \u001b[0;32m/usr/local/lib/python3.10/site-packages/pandas/core/arraylike.py:108\u001b[0m, in \u001b[0;36mOpsMixin.__sub__\u001b[0;34m(self, other)\u001b[0m\n\u001b[1;32m    106\u001b[0m \u001b[39m@unpack_zerodim_and_defer\u001b[39m(\u001b[39m\"\u001b[39m\u001b[39m__sub__\u001b[39m\u001b[39m\"\u001b[39m)\n\u001b[1;32m    107\u001b[0m \u001b[39mdef\u001b[39;00m \u001b[39m__sub__\u001b[39m(\u001b[39mself\u001b[39m, other):\n\u001b[0;32m--> 108\u001b[0m     \u001b[39mreturn\u001b[39;00m \u001b[39mself\u001b[39;49m\u001b[39m.\u001b[39;49m_arith_method(other, operator\u001b[39m.\u001b[39;49msub)\n",
      "File \u001b[0;32m/usr/local/lib/python3.10/site-packages/pandas/core/series.py:5639\u001b[0m, in \u001b[0;36mSeries._arith_method\u001b[0;34m(self, other, op)\u001b[0m\n\u001b[1;32m   5637\u001b[0m \u001b[39mdef\u001b[39;00m \u001b[39m_arith_method\u001b[39m(\u001b[39mself\u001b[39m, other, op):\n\u001b[1;32m   5638\u001b[0m     \u001b[39mself\u001b[39m, other \u001b[39m=\u001b[39m ops\u001b[39m.\u001b[39malign_method_SERIES(\u001b[39mself\u001b[39m, other)\n\u001b[0;32m-> 5639\u001b[0m     \u001b[39mreturn\u001b[39;00m base\u001b[39m.\u001b[39;49mIndexOpsMixin\u001b[39m.\u001b[39;49m_arith_method(\u001b[39mself\u001b[39;49m, other, op)\n",
      "File \u001b[0;32m/usr/local/lib/python3.10/site-packages/pandas/core/base.py:1295\u001b[0m, in \u001b[0;36mIndexOpsMixin._arith_method\u001b[0;34m(self, other, op)\u001b[0m\n\u001b[1;32m   1292\u001b[0m rvalues \u001b[39m=\u001b[39m ensure_wrapped_if_datetimelike(rvalues)\n\u001b[1;32m   1294\u001b[0m \u001b[39mwith\u001b[39;00m np\u001b[39m.\u001b[39merrstate(\u001b[39mall\u001b[39m\u001b[39m=\u001b[39m\u001b[39m\"\u001b[39m\u001b[39mignore\u001b[39m\u001b[39m\"\u001b[39m):\n\u001b[0;32m-> 1295\u001b[0m     result \u001b[39m=\u001b[39m ops\u001b[39m.\u001b[39;49marithmetic_op(lvalues, rvalues, op)\n\u001b[1;32m   1297\u001b[0m \u001b[39mreturn\u001b[39;00m \u001b[39mself\u001b[39m\u001b[39m.\u001b[39m_construct_result(result, name\u001b[39m=\u001b[39mres_name)\n",
      "File \u001b[0;32m/usr/local/lib/python3.10/site-packages/pandas/core/ops/array_ops.py:222\u001b[0m, in \u001b[0;36marithmetic_op\u001b[0;34m(left, right, op)\u001b[0m\n\u001b[1;32m    217\u001b[0m \u001b[39melse\u001b[39;00m:\n\u001b[1;32m    218\u001b[0m     \u001b[39m# TODO we should handle EAs consistently and move this check before the if/else\u001b[39;00m\n\u001b[1;32m    219\u001b[0m     \u001b[39m# (https://github.com/pandas-dev/pandas/issues/41165)\u001b[39;00m\n\u001b[1;32m    220\u001b[0m     _bool_arith_check(op, left, right)\n\u001b[0;32m--> 222\u001b[0m     res_values \u001b[39m=\u001b[39m _na_arithmetic_op(left, right, op)\n\u001b[1;32m    224\u001b[0m \u001b[39mreturn\u001b[39;00m res_values\n",
      "File \u001b[0;32m/usr/local/lib/python3.10/site-packages/pandas/core/ops/array_ops.py:170\u001b[0m, in \u001b[0;36m_na_arithmetic_op\u001b[0;34m(left, right, op, is_cmp)\u001b[0m\n\u001b[1;32m    164\u001b[0m \u001b[39mexcept\u001b[39;00m \u001b[39mTypeError\u001b[39;00m:\n\u001b[1;32m    165\u001b[0m     \u001b[39mif\u001b[39;00m \u001b[39mnot\u001b[39;00m is_cmp \u001b[39mand\u001b[39;00m (is_object_dtype(left\u001b[39m.\u001b[39mdtype) \u001b[39mor\u001b[39;00m is_object_dtype(right)):\n\u001b[1;32m    166\u001b[0m         \u001b[39m# For object dtype, fallback to a masked operation (only operating\u001b[39;00m\n\u001b[1;32m    167\u001b[0m         \u001b[39m#  on the non-missing values)\u001b[39;00m\n\u001b[1;32m    168\u001b[0m         \u001b[39m# Don't do this for comparisons, as that will handle complex numbers\u001b[39;00m\n\u001b[1;32m    169\u001b[0m         \u001b[39m#  incorrectly, see GH#32047\u001b[39;00m\n\u001b[0;32m--> 170\u001b[0m         result \u001b[39m=\u001b[39m _masked_arith_op(left, right, op)\n\u001b[1;32m    171\u001b[0m     \u001b[39melse\u001b[39;00m:\n\u001b[1;32m    172\u001b[0m         \u001b[39mraise\u001b[39;00m\n",
      "File \u001b[0;32m/usr/local/lib/python3.10/site-packages/pandas/core/ops/array_ops.py:127\u001b[0m, in \u001b[0;36m_masked_arith_op\u001b[0;34m(x, y, op)\u001b[0m\n\u001b[1;32m    124\u001b[0m         mask \u001b[39m=\u001b[39m np\u001b[39m.\u001b[39mwhere(y \u001b[39m==\u001b[39m \u001b[39m1\u001b[39m, \u001b[39mFalse\u001b[39;00m, mask)\n\u001b[1;32m    126\u001b[0m     \u001b[39mif\u001b[39;00m mask\u001b[39m.\u001b[39many():\n\u001b[0;32m--> 127\u001b[0m         result[mask] \u001b[39m=\u001b[39m op(xrav[mask], y)\n\u001b[1;32m    129\u001b[0m np\u001b[39m.\u001b[39mputmask(result, \u001b[39m~\u001b[39mmask, np\u001b[39m.\u001b[39mnan)\n\u001b[1;32m    130\u001b[0m result \u001b[39m=\u001b[39m result\u001b[39m.\u001b[39mreshape(x\u001b[39m.\u001b[39mshape)  \u001b[39m# 2D compat\u001b[39;00m\n",
      "\u001b[0;31mTypeError\u001b[0m: unsupported operand type(s) for -: 'str' and 'str'"
     ]
    }
   ],
   "source": [
    "import pandas as pd\n",
    "\n",
    "census_2011 = pd.read_csv(\"urban_data_project/inbound/census_data/by_year/censuse_data_2011.csv\", low_memory=False)\n",
    "census_2012 = pd.read_csv(\"urban_data_project/inbound/census_data/by_year/censuse_data_2012.csv\", low_memory=False)\n",
    "census_2013 = pd.read_csv(\"urban_data_project/inbound/census_data/by_year/censuse_data_2013.csv\", low_memory=False)\n",
    "census_2014 = pd.read_csv(\"urban_data_project/inbound/census_data/by_year/censuse_data_2014.csv\", low_memory=False)\n",
    "census_2015 = pd.read_csv(\"urban_data_project/inbound/census_data/by_year/censuse_data_2015.csv\", low_memory=False)\n",
    "census_2016 = pd.read_csv(\"urban_data_project/inbound/census_data/by_year/censuse_data_2016.csv\", low_memory=False)\n",
    "census_2017 = pd.read_csv(\"urban_data_project/inbound/census_data/by_year/censuse_data_2017.csv\", low_memory=False)\n",
    "census_2018 = pd.read_csv(\"urban_data_project/inbound/census_data/by_year/censuse_data_2018.csv\", low_memory=False)\n",
    "census_2019 = pd.read_csv(\"urban_data_project/inbound/census_data/by_year/censuse_data_2019.csv\", low_memory=False)\n",
    "\n",
    "for i in [census_2011, census_2012, census_2013, census_2014, census_2015, census_2016, census_2017, census_2018]:\n",
    "    i['bachelors'] = i['DP02_0064E']\n",
    "    i['graduate'] = i['DP02_0065E']\n",
    "    i['household'] = i['S1901_C01_012E']\n",
    "    i['foreign-born-non-us'] = i['DP02_0095E']\n",
    "    i['family'] = i['S1901_C02_012E']\n",
    "    i['nonfamily-households'] = i['S1901_C04_012E']\n",
    "    i['married-couple-families'] = i['S1901_C03_012E']\n",
    "    i['zip'] = i['NAME'].apply(lambda x: x.strip('ZCTA5'))\n",
    "\n",
    "for i in [census_2011, census_2012, census_2013, census_2014, census_2015, census_2016]:\n",
    "    i['white_non_hispanic'] = i['DP05_0072E']\n",
    "    i['median_age'] = i['DP05_0017E']\n",
    "\n",
    "for i in [census_2011, census_2012, census_2013, census_2014]:\n",
    "    i['gross_rent'] = i['DP04_0132E']\n",
    "\n",
    "for i in [census_2015, census_2016]:\n",
    "    i['gross_rent'] = i['DP04_0134E']\n",
    "\n",
    "for i in [census_2017, census_2018, census_2019]:\n",
    "    i['gross_rent'] = i['DP04_0134E']\n",
    "    i['white_non_hispanic'] = i['DP05_0077E']\n",
    "    i['median_age'] = i['DP05_0018E']\n",
    "\n",
    "\n",
    "\n",
    "census_2019['bachelors'] = census_2019['DP02_0065E']\n",
    "census_2019['graduate'] = census_2019['DP02_0066E']\n",
    "census_2019['household'] = census_2019['S1901_C01_012E']\n",
    "census_2019['foreign-born-non-us'] = census_2019['DP02_0096E']\n",
    "census_2019['family'] = census_2019['S1901_C02_012E']\n",
    "census_2019['nonfamily-households'] = census_2019['S1901_C04_012E']\n",
    "census_2019['married-couple-families'] = census_2019['S1901_C03_012E']\n",
    "census_2019['zip'] = census_2019['NAME'].apply(lambda x: x.strip('ZCTA5'))\n",
    "\n",
    "\n",
    "\n",
    "\n",
    "census_2011 = census_2011[['zip', 'bachelors', 'graduate', 'household', 'foreign-born-non-us', 'family', 'nonfamily-households', 'nonfamily-households', 'married-couple-families', 'gross_rent', 'median_age', 'white_non_hispanic']]\n",
    "census_2012 = census_2012[['zip', 'bachelors', 'graduate', 'household', 'foreign-born-non-us', 'family', 'nonfamily-households', 'nonfamily-households', 'married-couple-families', 'gross_rent', 'median_age', 'white_non_hispanic']]\n",
    "census_2013 = census_2013[['zip', 'bachelors', 'graduate', 'household', 'foreign-born-non-us', 'family', 'nonfamily-households', 'nonfamily-households', 'married-couple-families', 'gross_rent', 'median_age', 'white_non_hispanic']]\n",
    "census_2014 = census_2014[['zip', 'bachelors', 'graduate', 'household', 'foreign-born-non-us', 'family', 'nonfamily-households', 'nonfamily-households', 'married-couple-families', 'gross_rent', 'median_age', 'white_non_hispanic']]\n",
    "census_2015 = census_2015[['zip', 'bachelors', 'graduate', 'household', 'foreign-born-non-us', 'family', 'nonfamily-households', 'nonfamily-households', 'married-couple-families', 'gross_rent', 'median_age', 'white_non_hispanic']]\n",
    "census_2016 = census_2016[['zip', 'bachelors', 'graduate', 'household', 'foreign-born-non-us', 'family', 'nonfamily-households', 'nonfamily-households', 'married-couple-families', 'gross_rent', 'median_age', 'white_non_hispanic']]\n",
    "census_2017 = census_2017[['zip', 'bachelors', 'graduate', 'household', 'foreign-born-non-us', 'family', 'nonfamily-households', 'nonfamily-households', 'married-couple-families', 'gross_rent', 'median_age', 'white_non_hispanic']]\n",
    "census_2018 = census_2018[['zip', 'bachelors', 'graduate', 'household', 'foreign-born-non-us', 'family', 'nonfamily-households', 'nonfamily-households', 'married-couple-families', 'gross_rent', 'median_age', 'white_non_hispanic']]\n",
    "census_2019 = census_2019[['zip', 'bachelors', 'graduate', 'household', 'foreign-born-non-us', 'family', 'nonfamily-households', 'nonfamily-households', 'married-couple-families', 'gross_rent', 'median_age', 'white_non_hispanic']]\n",
    "\n",
    "\n",
    "def normalize(df):\n",
    "    df = df.fillna(0)\n",
    "    result = df.copy()\n",
    "    for feature_name in df.columns:\n",
    "        max_value = df[feature_name].max()\n",
    "        min_value = df[feature_name].min()\n",
    "        result[feature_name] = (df[feature_name] - min_value) / (max_value - min_value)\n",
    "    return result\n",
    "\n",
    "\n",
    "normalize(census_2011)\n",
    "print(census_2011.head)"
   ]
  }
 ],
 "metadata": {
  "kernelspec": {
   "display_name": "Python 3.10.6 64-bit",
   "language": "python",
   "name": "python3"
  },
  "language_info": {
   "codemirror_mode": {
    "name": "ipython",
    "version": 3
   },
   "file_extension": ".py",
   "mimetype": "text/x-python",
   "name": "python",
   "nbconvert_exporter": "python",
   "pygments_lexer": "ipython3",
   "version": "3.10.6"
  },
  "orig_nbformat": 4,
  "vscode": {
   "interpreter": {
    "hash": "aee8b7b246df8f9039afb4144a1f6fd8d2ca17a180786b69acc140d282b71a49"
   }
  }
 },
 "nbformat": 4,
 "nbformat_minor": 2
}
