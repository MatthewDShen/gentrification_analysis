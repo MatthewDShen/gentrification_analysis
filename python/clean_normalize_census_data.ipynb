{
 "cells": [
  {
   "cell_type": "code",
   "execution_count": 111,
   "metadata": {},
   "outputs": [],
   "source": [
    "import pandas as pd\n",
    "\n",
    "# Read in CSVs\n",
    "census_2011 = pd.read_csv(\"/home/matthewdshen/GitHub/urban_data_project/analysis/by_year/census_data_2011.csv\", low_memory=False)\n",
    "census_2012 = pd.read_csv(\"/home/matthewdshen/GitHub/urban_data_project/analysis/by_year/census_data_2012.csv\", low_memory=False)\n",
    "census_2013 = pd.read_csv(\"/home/matthewdshen/GitHub/urban_data_project/analysis/by_year/census_data_2013.csv\", low_memory=False)\n",
    "census_2014 = pd.read_csv(\"/home/matthewdshen/GitHub/urban_data_project/analysis/by_year/census_data_2014.csv\", low_memory=False)\n",
    "census_2015 = pd.read_csv(\"/home/matthewdshen/GitHub/urban_data_project/analysis/by_year/census_data_2015.csv\", low_memory=False)\n",
    "census_2016 = pd.read_csv(\"/home/matthewdshen/GitHub/urban_data_project/analysis/by_year/census_data_2016.csv\", low_memory=False)\n",
    "census_2017 = pd.read_csv(\"/home/matthewdshen/GitHub/urban_data_project/analysis/by_year/census_data_2017.csv\", low_memory=False)\n",
    "census_2018 = pd.read_csv(\"/home/matthewdshen/GitHub/urban_data_project/analysis/by_year/census_data_2018.csv\", low_memory=False)\n",
    "census_2019 = pd.read_csv(\"/home/matthewdshen/GitHub/urban_data_project/analysis/by_year/census_data_2019.csv\", low_memory=False)\n"
   ]
  },
  {
   "cell_type": "code",
   "execution_count": null,
   "metadata": {},
   "outputs": [],
   "source": [
    "# Find and rename median age columns\n",
    "for df in [census_2011, census_2012, census_2013, census_2014, census_2015, census_2016]:\n",
    "    df.rename(columns = {\n",
    "        'DP05_0017E' : 'median_age'\n",
    "    }, inplace = True)\n",
    "\n",
    "for df in [census_2017, census_2018, census_2019]:\n",
    "    df.rename(columns = {\n",
    "        'DP05_0018E' : 'median_age'\n",
    "    }, inplace = True)\n"
   ]
  },
  {
   "cell_type": "code",
   "execution_count": null,
   "metadata": {},
   "outputs": [],
   "source": [
    "# Find and rename white non-hispanic\n",
    "for df in [census_2011, census_2012, census_2013, census_2014, census_2015, census_2016]:\n",
    "    df.rename(columns = {\n",
    "        'DP05_0072E' : 'white_non-hispanic'\n",
    "    }, inplace = True)\n",
    "\n",
    "for df in [census_2017, census_2018, census_2019]:\n",
    "    df.rename(columns = {\n",
    "        'DP05_0077E' : 'white_non-hispanic'\n",
    "    }, inplace = True)"
   ]
  },
  {
   "cell_type": "code",
   "execution_count": null,
   "metadata": {},
   "outputs": [],
   "source": [
    "# Find and rename income\n",
    "for df in [census_2011, census_2012, census_2013, census_2014, census_2015, census_2016, census_2017, census_2018, census_2019]:\n",
    "    df.rename(columns = {\n",
    "        'S1901_C01_012E': 'household_income',\n",
    "        'S1901_C02_012E': 'family_income',\n",
    "        'S1901_C04_012E': 'nonfamily_households_income',\n",
    "        'S1901_C03_012E': 'married-couple_families_income'\n",
    "    }, inplace = True)\n"
   ]
  },
  {
   "cell_type": "code",
   "execution_count": null,
   "metadata": {},
   "outputs": [],
   "source": [
    "# Find and rename number of immigrints\n",
    "for df in [census_2011, census_2012, census_2013, census_2014, census_2015, census_2016, census_2017, census_2018]:\n",
    "    df.rename(columns = {\n",
    "        'DP02_0095E': 'foreign_born_not_a_us_citizen'\n",
    "    }, inplace = True)\n",
    "\n",
    "for df in [census_2019]:\n",
    "    df.rename(columns = {\n",
    "        'DP02_0097E': 'foreign_born_not_a_us_citizen'\n",
    "    }, inplace = True)"
   ]
  },
  {
   "cell_type": "code",
   "execution_count": null,
   "metadata": {},
   "outputs": [],
   "source": [
    "# Find and rename education information\n",
    "for df in [census_2011, census_2012, census_2013, census_2014, census_2015, census_2016, census_2017, census_2018, census_2019]:\n",
    "    df.rename(columns = {\n",
    "        'DP02_0064E': 'bachelors',\n",
    "        'DP02_0065E': 'graduate',\n",
    "    }, inplace = True)"
   ]
  },
  {
   "cell_type": "code",
   "execution_count": null,
   "metadata": {},
   "outputs": [],
   "source": [
    "# Find and rename rental cost\n",
    "for df in [census_2011, census_2012, census_2013, census_2014]:\n",
    "    df.rename(columns = {\n",
    "        'DP04_0132E': 'gross_rent_media_price'\n",
    "    }, inplace = True)\n",
    "\n",
    "for df in [census_2015, census_2016, census_2017, census_2018, census_2019]:\n",
    "    df.rename(columns = {\n",
    "        'DP04_0134E': 'gross_rent_media_price'\n",
    "    }, inplace = True)"
   ]
  },
  {
   "cell_type": "code",
   "execution_count": null,
   "metadata": {},
   "outputs": [],
   "source": [
    "# Remove columns not needed\n",
    "census_2011 = census_2011[['NAME','median_age','white_non-hispanic','household_income','family_income','nonfamily_households_income','married-couple_families_income','foreign_born_not_a_us_citizen','bachelors','graduate','gross_rent_media_price']]\n",
    "census_2012 = census_2012[['NAME','median_age','white_non-hispanic','household_income','family_income','nonfamily_households_income','married-couple_families_income','foreign_born_not_a_us_citizen','bachelors','graduate','gross_rent_media_price']]\n",
    "census_2013 = census_2013[['NAME','median_age','white_non-hispanic','household_income','family_income','nonfamily_households_income','married-couple_families_income','foreign_born_not_a_us_citizen','bachelors','graduate','gross_rent_media_price']]\n",
    "census_2014 = census_2014[['NAME','median_age','white_non-hispanic','household_income','family_income','nonfamily_households_income','married-couple_families_income','foreign_born_not_a_us_citizen','bachelors','graduate','gross_rent_media_price']]\n",
    "census_2015 = census_2015[['NAME','median_age','white_non-hispanic','household_income','family_income','nonfamily_households_income','married-couple_families_income','foreign_born_not_a_us_citizen','bachelors','graduate','gross_rent_media_price']]\n",
    "census_2016 = census_2016[['NAME','median_age','white_non-hispanic','household_income','family_income','nonfamily_households_income','married-couple_families_income','foreign_born_not_a_us_citizen','bachelors','graduate','gross_rent_media_price']]\n",
    "census_2017 = census_2017[['NAME','median_age','white_non-hispanic','household_income','family_income','nonfamily_households_income','married-couple_families_income','foreign_born_not_a_us_citizen','bachelors','graduate','gross_rent_media_price']]\n",
    "census_2018 = census_2018[['NAME','median_age','white_non-hispanic','household_income','family_income','nonfamily_households_income','married-couple_families_income','foreign_born_not_a_us_citizen','bachelors','graduate','gross_rent_media_price']]\n",
    "census_2019 = census_2019[['NAME','median_age','white_non-hispanic','household_income','family_income','nonfamily_households_income','married-couple_families_income','foreign_born_not_a_us_citizen','bachelors','graduate','gross_rent_media_price']]"
   ]
  },
  {
   "cell_type": "code",
   "execution_count": null,
   "metadata": {},
   "outputs": [],
   "source": [
    "# Normalize the data\n",
    "def normalize(df):\n",
    "    '''The following function makes all the data into floats or deletes it and then normalizes the data'''\n",
    "    result = df.copy()\n",
    "    for feature_name in df.columns[1:]:\n",
    "        df[feature_name] = df[feature_name].apply(pd.to_numeric, errors='coerce')\n",
    "        max_value = df[feature_name].max()\n",
    "        min_value = df[feature_name].min()\n",
    "        result[feature_name] = (df[feature_name] - min_value) / (max_value - min_value)\n",
    "    return result\n",
    "\n",
    "# Run normalization function\n",
    "census_2011 = normalize(census_2011)\n",
    "census_2012 = normalize(census_2012)\n",
    "census_2013 = normalize(census_2013)\n",
    "census_2014 = normalize(census_2014)\n",
    "census_2015 = normalize(census_2015)\n",
    "census_2016 = normalize(census_2016)\n",
    "census_2017 = normalize(census_2017)\n",
    "census_2018 = normalize(census_2018)\n",
    "census_2019 = normalize(census_2019)"
   ]
  },
  {
   "cell_type": "code",
   "execution_count": null,
   "metadata": {},
   "outputs": [],
   "source": [
    "# Write census data to csv\n",
    "census_2011 = census_2011.to_csv('/home/matthewdshen/GitHub/urban_data_project/analysis/normalized/census_2011.csv')\n",
    "census_2012 = census_2012.to_csv('/home/matthewdshen/GitHub/urban_data_project/analysis/normalized/census_2012.csv')\n",
    "census_2013 = census_2013.to_csv('/home/matthewdshen/GitHub/urban_data_project/analysis/normalized/census_2013.csv')\n",
    "census_2014 = census_2014.to_csv('/home/matthewdshen/GitHub/urban_data_project/analysis/normalized/census_2014.csv')\n",
    "census_2015 = census_2015.to_csv('/home/matthewdshen/GitHub/urban_data_project/analysis/normalized/census_2015.csv')\n",
    "census_2016 = census_2016.to_csv('/home/matthewdshen/GitHub/urban_data_project/analysis/normalized/census_2016.csv')\n",
    "census_2017 = census_2017.to_csv('/home/matthewdshen/GitHub/urban_data_project/analysis/normalized/census_2017.csv')\n",
    "census_2018 = census_2018.to_csv('/home/matthewdshen/GitHub/urban_data_project/analysis/normalized/census_2018.csv')\n",
    "census_2019 = census_2019.to_csv('/home/matthewdshen/GitHub/urban_data_project/analysis/normalized/census_2019.csv')"
   ]
  }
 ],
 "metadata": {
  "kernelspec": {
   "display_name": "Python 3.9.2 64-bit",
   "language": "python",
   "name": "python3"
  },
  "language_info": {
   "codemirror_mode": {
    "name": "ipython",
    "version": 3
   },
   "file_extension": ".py",
   "mimetype": "text/x-python",
   "name": "python",
   "nbconvert_exporter": "python",
   "pygments_lexer": "ipython3",
   "version": "3.9.2"
  },
  "orig_nbformat": 4,
  "vscode": {
   "interpreter": {
    "hash": "916dbcbb3f70747c44a77c7bcd40155683ae19c65e1c03b4aa3499c5328201f1"
   }
  }
 },
 "nbformat": 4,
 "nbformat_minor": 2
}
