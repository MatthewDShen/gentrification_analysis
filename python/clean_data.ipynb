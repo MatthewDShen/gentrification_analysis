{
 "cells": [
  {
   "cell_type": "code",
   "execution_count": 76,
   "metadata": {},
   "outputs": [],
   "source": [
    "# Import libraries\n",
    "import pandas as pd\n",
    "import glob\n",
    "import os"
   ]
  },
  {
   "cell_type": "code",
   "execution_count": 77,
   "metadata": {},
   "outputs": [
    {
     "name": "stdout",
     "output_type": "stream",
     "text": [
      "[]\n"
     ]
    }
   ],
   "source": [
    "# Get list of path for all files in a folder\n",
    "path = '/home/matthewdshen/GitHub/urban_data_project/inbound/census_data/DP02'\n",
    "csv_files = glob.glob(os.path.join(path, \"*.csv\"))\n",
    "\n",
    "# csv_files = [v for v in csv_files if csv_files[3].find('Column-Metadata') > 0]\n",
    "\n",
    "# Create list of names with the term \"Column Metatdata\"\n",
    "metadata_file_names = []\n",
    "for i in range(0,len(csv_files)):\n",
    "    if csv_files[i].find('Column-Metadata') > 0:\n",
    "        metadata_file_names.append(csv_files[i])\n",
    "    else:\n",
    "        pass\n",
    "\n",
    "# Remove metadata files from csv list\n",
    "for i in range(0,len(metadata_file_names)):\n",
    "    csv_files.remove(metadata_file_names[i])\n",
    "\n",
    "\n",
    "print(csv_files)\n"
   ]
  }
 ],
 "metadata": {
  "kernelspec": {
   "display_name": "Python 3.9.2 64-bit",
   "language": "python",
   "name": "python3"
  },
  "language_info": {
   "codemirror_mode": {
    "name": "ipython",
    "version": 3
   },
   "file_extension": ".py",
   "mimetype": "text/x-python",
   "name": "python",
   "nbconvert_exporter": "python",
   "pygments_lexer": "ipython3",
   "version": "3.9.2"
  },
  "orig_nbformat": 4,
  "vscode": {
   "interpreter": {
    "hash": "916dbcbb3f70747c44a77c7bcd40155683ae19c65e1c03b4aa3499c5328201f1"
   }
  }
 },
 "nbformat": 4,
 "nbformat_minor": 2
}
